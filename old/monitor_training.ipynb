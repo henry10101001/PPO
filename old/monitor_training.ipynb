{
 "cells": [
  {
   "cell_type": "markdown",
   "metadata": {
    "id": "hyyN-2qyK_T2"
   },
   "source": [
    "# Stable Baselines3 - Monitor Training and Plotting\n",
    "\n",
    "Github Repo: [https://github.com/DLR-RM/stable-baselines3](https://github.com/DLR-RM/stable-baselines3)\n",
    "\n",
    "\n",
    "[RL Baselines3 Zoo](https://github.com/DLR-RM/rl-baselines3-zoo) is a training framework for Reinforcement Learning (RL), using Stable Baselines3.\n",
    "\n",
    "It provides scripts for training, evaluating agents, tuning hyperparameters, plotting results and recording videos.\n",
    "\n",
    "Documentation is available online: [https://stable-baselines3.readthedocs.io/](https://stable-baselines3.readthedocs.io/)\n",
    "\n",
    "## Install Dependencies and Stable Baselines Using Pip\n",
    "\n",
    "\n",
    "```\n",
    "pip install stable-baselines3[extra]\n",
    "```"
   ]
  },
  {
   "cell_type": "markdown",
   "metadata": {
    "id": "FtY8FhliLsGm"
   },
   "source": [
    "## Import policy, RL agent, Wrappers"
   ]
  },
  {
   "cell_type": "code",
   "execution_count": 11,
   "metadata": {
    "id": "BIedd7Pz9sOs"
   },
   "outputs": [],
   "source": [
    "import os\n",
    "\n",
    "import gymnasium as gym\n",
    "import numpy as np\n",
    "import matplotlib.pyplot as plt\n",
    "\n",
    "from stable_baselines3 import PPO\n",
    "from stable_baselines3.common.monitor import Monitor\n",
    "from stable_baselines3.common.results_plotter import load_results, ts2xy\n",
    "from stable_baselines3.common.noise import NormalActionNoise\n",
    "from stable_baselines3.common.callbacks import BaseCallback"
   ]
  },
  {
   "cell_type": "markdown",
   "metadata": {
    "id": "RapkYvTXL7Cd"
   },
   "source": [
    "## Define a Callback Function\n"
   ]
  },
  {
   "cell_type": "code",
   "execution_count": 3,
   "metadata": {
    "id": "pUWGZp3i9wyf"
   },
   "outputs": [],
   "source": [
    "class SaveOnBestTrainingRewardCallback(BaseCallback):\n",
    "    \"\"\"\n",
    "    Callback for saving a model (the check is done every ``check_freq`` steps)\n",
    "    based on the training reward (in practice, we recommend using ``EvalCallback``).\n",
    "\n",
    "    :param check_freq: (int)\n",
    "    :param log_dir: (str) Path to the folder where the model will be saved.\n",
    "      It must contains the file created by the ``Monitor`` wrapper.\n",
    "    :param verbose: (int)\n",
    "    \"\"\"\n",
    "\n",
    "    def __init__(self, check_freq: int, log_dir: str, verbose=1):\n",
    "        super().__init__(verbose)\n",
    "        self.check_freq = check_freq\n",
    "        self.log_dir = log_dir\n",
    "        self.save_path = os.path.join(log_dir, \"best_model\")\n",
    "        self.best_mean_reward = -np.inf\n",
    "\n",
    "    def _init_callback(self) -> None:\n",
    "        # Create folder if needed\n",
    "        if self.save_path is not None:\n",
    "            os.makedirs(self.save_path, exist_ok=True)\n",
    "\n",
    "    def _on_step(self) -> bool:\n",
    "        if self.n_calls % self.check_freq == 0:\n",
    "\n",
    "            # Retrieve training reward\n",
    "            x, y = ts2xy(load_results(self.log_dir), \"timesteps\")\n",
    "            if len(x) > 0:\n",
    "                # Mean training reward over the last 100 episodes\n",
    "                mean_reward = np.mean(y[-100:])\n",
    "                if self.verbose > 0:\n",
    "                    print(f\"Num timesteps: {self.num_timesteps}\")\n",
    "                    print(\n",
    "                        f\"Best mean reward: {self.best_mean_reward:.2f} - Last mean reward per episode: {mean_reward:.2f}\"\n",
    "                    )\n",
    "\n",
    "                # New best model, you could save the agent here\n",
    "                if mean_reward > self.best_mean_reward:\n",
    "                    self.best_mean_reward = mean_reward\n",
    "                    # Example for saving best model\n",
    "                    if self.verbose > 0:\n",
    "                        print(f\"Saving new best model to {self.save_path}.zip\")\n",
    "                    self.model.save(self.save_path)\n",
    "\n",
    "        return True"
   ]
  },
  {
   "cell_type": "markdown",
   "metadata": {
    "id": "7c8VHsiXC7dL"
   },
   "source": [
    "## Create and wrap the environment\n",
    "\n",
    "We will be using Lunar Lander environment with continuous actions"
   ]
  },
  {
   "cell_type": "code",
   "execution_count": 6,
   "metadata": {
    "id": "kmxIq5UeC3Nj"
   },
   "outputs": [],
   "source": [
    "# Create log dir\n",
    "log_dir = \"/tmp/gym/\"\n",
    "os.makedirs(log_dir, exist_ok=True)\n",
    "\n",
    "# Create and wrap the environment\n",
    "env = gym.make(\"LunarLanderContinuous-v3\")\n",
    "# Logs will be saved in log_dir/monitor.csv\n",
    "env = Monitor(env, log_dir)"
   ]
  },
  {
   "cell_type": "markdown",
   "metadata": {
    "id": "80OxZ_uMDd4J"
   },
   "source": [
    "## Define and train the TD3 agent\n",
    "\n",
    "TD3 is the successor of DDPG (cf [Documentation](https://stable-baselines3.readthedocs.io/))"
   ]
  },
  {
   "cell_type": "code",
   "execution_count": 13,
   "metadata": {
    "id": "iaOPfOrwWEP4"
   },
   "outputs": [
    {
     "name": "stdout",
     "output_type": "stream",
     "text": [
      "Num timesteps: 10000\n",
      "Best mean reward: -inf - Last mean reward per episode: -182.44\n",
      "Saving new best model to /tmp/gym/best_model.zip\n",
      "Num timesteps: 20000\n",
      "Best mean reward: -182.44 - Last mean reward per episode: -139.58\n",
      "Saving new best model to /tmp/gym/best_model.zip\n",
      "Num timesteps: 30000\n",
      "Best mean reward: -139.58 - Last mean reward per episode: -107.75\n",
      "Saving new best model to /tmp/gym/best_model.zip\n",
      "Num timesteps: 40000\n",
      "Best mean reward: -107.75 - Last mean reward per episode: -82.16\n",
      "Saving new best model to /tmp/gym/best_model.zip\n",
      "Num timesteps: 50000\n",
      "Best mean reward: -82.16 - Last mean reward per episode: -69.31\n",
      "Saving new best model to /tmp/gym/best_model.zip\n",
      "Num timesteps: 60000\n",
      "Best mean reward: -69.31 - Last mean reward per episode: -59.28\n",
      "Saving new best model to /tmp/gym/best_model.zip\n",
      "Num timesteps: 70000\n",
      "Best mean reward: -59.28 - Last mean reward per episode: -48.00\n",
      "Saving new best model to /tmp/gym/best_model.zip\n",
      "Num timesteps: 80000\n",
      "Best mean reward: -48.00 - Last mean reward per episode: -36.47\n",
      "Saving new best model to /tmp/gym/best_model.zip\n",
      "Num timesteps: 90000\n",
      "Best mean reward: -36.47 - Last mean reward per episode: -19.98\n",
      "Saving new best model to /tmp/gym/best_model.zip\n",
      "Num timesteps: 100000\n",
      "Best mean reward: -19.98 - Last mean reward per episode: -9.20\n",
      "Saving new best model to /tmp/gym/best_model.zip\n",
      "Num timesteps: 110000\n",
      "Best mean reward: -9.20 - Last mean reward per episode: 2.35\n",
      "Saving new best model to /tmp/gym/best_model.zip\n",
      "Num timesteps: 120000\n",
      "Best mean reward: 2.35 - Last mean reward per episode: 15.68\n",
      "Saving new best model to /tmp/gym/best_model.zip\n",
      "Num timesteps: 130000\n",
      "Best mean reward: 15.68 - Last mean reward per episode: 37.34\n",
      "Saving new best model to /tmp/gym/best_model.zip\n",
      "Num timesteps: 140000\n",
      "Best mean reward: 37.34 - Last mean reward per episode: 44.47\n",
      "Saving new best model to /tmp/gym/best_model.zip\n",
      "Num timesteps: 150000\n",
      "Best mean reward: 44.47 - Last mean reward per episode: 55.71\n",
      "Saving new best model to /tmp/gym/best_model.zip\n",
      "Num timesteps: 160000\n",
      "Best mean reward: 55.71 - Last mean reward per episode: 72.50\n",
      "Saving new best model to /tmp/gym/best_model.zip\n",
      "Num timesteps: 170000\n",
      "Best mean reward: 72.50 - Last mean reward per episode: 85.02\n",
      "Saving new best model to /tmp/gym/best_model.zip\n",
      "Num timesteps: 180000\n",
      "Best mean reward: 85.02 - Last mean reward per episode: 89.79\n",
      "Saving new best model to /tmp/gym/best_model.zip\n",
      "Num timesteps: 190000\n",
      "Best mean reward: 89.79 - Last mean reward per episode: 96.33\n",
      "Saving new best model to /tmp/gym/best_model.zip\n",
      "Num timesteps: 200000\n",
      "Best mean reward: 96.33 - Last mean reward per episode: 102.51\n",
      "Saving new best model to /tmp/gym/best_model.zip\n",
      "Num timesteps: 210000\n",
      "Best mean reward: 102.51 - Last mean reward per episode: 105.57\n",
      "Saving new best model to /tmp/gym/best_model.zip\n",
      "Num timesteps: 220000\n",
      "Best mean reward: 105.57 - Last mean reward per episode: 112.10\n",
      "Saving new best model to /tmp/gym/best_model.zip\n",
      "Num timesteps: 230000\n",
      "Best mean reward: 112.10 - Last mean reward per episode: 116.61\n",
      "Saving new best model to /tmp/gym/best_model.zip\n",
      "Num timesteps: 240000\n",
      "Best mean reward: 116.61 - Last mean reward per episode: 121.32\n",
      "Saving new best model to /tmp/gym/best_model.zip\n",
      "Num timesteps: 250000\n",
      "Best mean reward: 121.32 - Last mean reward per episode: 124.53\n",
      "Saving new best model to /tmp/gym/best_model.zip\n",
      "Num timesteps: 260000\n",
      "Best mean reward: 124.53 - Last mean reward per episode: 126.49\n",
      "Saving new best model to /tmp/gym/best_model.zip\n",
      "Num timesteps: 270000\n",
      "Best mean reward: 126.49 - Last mean reward per episode: 129.49\n",
      "Saving new best model to /tmp/gym/best_model.zip\n",
      "Num timesteps: 280000\n",
      "Best mean reward: 129.49 - Last mean reward per episode: 130.41\n",
      "Saving new best model to /tmp/gym/best_model.zip\n",
      "Num timesteps: 290000\n",
      "Best mean reward: 130.41 - Last mean reward per episode: 136.84\n",
      "Saving new best model to /tmp/gym/best_model.zip\n",
      "Num timesteps: 300000\n",
      "Best mean reward: 136.84 - Last mean reward per episode: 143.10\n",
      "Saving new best model to /tmp/gym/best_model.zip\n",
      "Num timesteps: 310000\n",
      "Best mean reward: 143.10 - Last mean reward per episode: 151.51\n",
      "Saving new best model to /tmp/gym/best_model.zip\n",
      "Num timesteps: 320000\n",
      "Best mean reward: 151.51 - Last mean reward per episode: 161.27\n",
      "Saving new best model to /tmp/gym/best_model.zip\n",
      "Num timesteps: 330000\n",
      "Best mean reward: 161.27 - Last mean reward per episode: 170.78\n",
      "Saving new best model to /tmp/gym/best_model.zip\n",
      "Num timesteps: 340000\n",
      "Best mean reward: 170.78 - Last mean reward per episode: 178.23\n",
      "Saving new best model to /tmp/gym/best_model.zip\n",
      "Num timesteps: 350000\n",
      "Best mean reward: 178.23 - Last mean reward per episode: 189.66\n",
      "Saving new best model to /tmp/gym/best_model.zip\n",
      "Num timesteps: 360000\n",
      "Best mean reward: 189.66 - Last mean reward per episode: 191.00\n",
      "Saving new best model to /tmp/gym/best_model.zip\n",
      "Num timesteps: 370000\n",
      "Best mean reward: 191.00 - Last mean reward per episode: 192.16\n",
      "Saving new best model to /tmp/gym/best_model.zip\n",
      "Num timesteps: 380000\n",
      "Best mean reward: 192.16 - Last mean reward per episode: 190.77\n",
      "Num timesteps: 390000\n",
      "Best mean reward: 192.16 - Last mean reward per episode: 196.46\n",
      "Saving new best model to /tmp/gym/best_model.zip\n",
      "Num timesteps: 400000\n",
      "Best mean reward: 196.46 - Last mean reward per episode: 187.56\n",
      "Num timesteps: 410000\n",
      "Best mean reward: 196.46 - Last mean reward per episode: 186.05\n",
      "Num timesteps: 420000\n",
      "Best mean reward: 196.46 - Last mean reward per episode: 190.52\n",
      "Num timesteps: 430000\n",
      "Best mean reward: 196.46 - Last mean reward per episode: 194.77\n",
      "Num timesteps: 440000\n",
      "Best mean reward: 196.46 - Last mean reward per episode: 196.52\n",
      "Saving new best model to /tmp/gym/best_model.zip\n",
      "Num timesteps: 450000\n",
      "Best mean reward: 196.52 - Last mean reward per episode: 192.54\n",
      "Num timesteps: 460000\n",
      "Best mean reward: 196.52 - Last mean reward per episode: 194.88\n",
      "Num timesteps: 470000\n",
      "Best mean reward: 196.52 - Last mean reward per episode: 188.86\n",
      "Num timesteps: 480000\n",
      "Best mean reward: 196.52 - Last mean reward per episode: 184.22\n",
      "Num timesteps: 490000\n",
      "Best mean reward: 196.52 - Last mean reward per episode: 191.85\n",
      "Num timesteps: 500000\n",
      "Best mean reward: 196.52 - Last mean reward per episode: 188.12\n",
      "Num timesteps: 510000\n",
      "Best mean reward: 196.52 - Last mean reward per episode: 181.89\n",
      "Num timesteps: 520000\n",
      "Best mean reward: 196.52 - Last mean reward per episode: 199.21\n",
      "Saving new best model to /tmp/gym/best_model.zip\n",
      "Num timesteps: 530000\n",
      "Best mean reward: 199.21 - Last mean reward per episode: 195.85\n",
      "Num timesteps: 540000\n",
      "Best mean reward: 199.21 - Last mean reward per episode: 198.72\n",
      "Num timesteps: 550000\n",
      "Best mean reward: 199.21 - Last mean reward per episode: 200.60\n",
      "Saving new best model to /tmp/gym/best_model.zip\n",
      "Num timesteps: 560000\n",
      "Best mean reward: 200.60 - Last mean reward per episode: 207.87\n",
      "Saving new best model to /tmp/gym/best_model.zip\n",
      "Num timesteps: 570000\n",
      "Best mean reward: 207.87 - Last mean reward per episode: 210.97\n",
      "Saving new best model to /tmp/gym/best_model.zip\n",
      "Num timesteps: 580000\n",
      "Best mean reward: 210.97 - Last mean reward per episode: 222.28\n",
      "Saving new best model to /tmp/gym/best_model.zip\n",
      "Num timesteps: 590000\n",
      "Best mean reward: 222.28 - Last mean reward per episode: 230.94\n",
      "Saving new best model to /tmp/gym/best_model.zip\n",
      "Num timesteps: 600000\n",
      "Best mean reward: 230.94 - Last mean reward per episode: 227.50\n",
      "Num timesteps: 610000\n",
      "Best mean reward: 230.94 - Last mean reward per episode: 220.05\n",
      "Num timesteps: 620000\n",
      "Best mean reward: 230.94 - Last mean reward per episode: 212.11\n",
      "Num timesteps: 630000\n",
      "Best mean reward: 230.94 - Last mean reward per episode: 216.40\n",
      "Num timesteps: 640000\n",
      "Best mean reward: 230.94 - Last mean reward per episode: 219.69\n",
      "Num timesteps: 650000\n",
      "Best mean reward: 230.94 - Last mean reward per episode: 218.82\n",
      "Num timesteps: 660000\n",
      "Best mean reward: 230.94 - Last mean reward per episode: 220.30\n",
      "Num timesteps: 670000\n",
      "Best mean reward: 230.94 - Last mean reward per episode: 218.62\n",
      "Num timesteps: 680000\n",
      "Best mean reward: 230.94 - Last mean reward per episode: 225.25\n",
      "Num timesteps: 690000\n",
      "Best mean reward: 230.94 - Last mean reward per episode: 203.57\n",
      "Num timesteps: 700000\n",
      "Best mean reward: 230.94 - Last mean reward per episode: 200.69\n",
      "Num timesteps: 710000\n",
      "Best mean reward: 230.94 - Last mean reward per episode: 187.60\n",
      "Num timesteps: 720000\n",
      "Best mean reward: 230.94 - Last mean reward per episode: 180.68\n",
      "Num timesteps: 730000\n",
      "Best mean reward: 230.94 - Last mean reward per episode: 184.30\n",
      "Num timesteps: 740000\n",
      "Best mean reward: 230.94 - Last mean reward per episode: 185.87\n",
      "Num timesteps: 750000\n",
      "Best mean reward: 230.94 - Last mean reward per episode: 196.08\n",
      "Num timesteps: 760000\n",
      "Best mean reward: 230.94 - Last mean reward per episode: 206.19\n",
      "Num timesteps: 770000\n",
      "Best mean reward: 230.94 - Last mean reward per episode: 210.86\n",
      "Num timesteps: 780000\n",
      "Best mean reward: 230.94 - Last mean reward per episode: 214.38\n",
      "Num timesteps: 790000\n",
      "Best mean reward: 230.94 - Last mean reward per episode: 220.09\n",
      "Num timesteps: 800000\n",
      "Best mean reward: 230.94 - Last mean reward per episode: 220.47\n",
      "Num timesteps: 810000\n",
      "Best mean reward: 230.94 - Last mean reward per episode: 225.97\n",
      "Num timesteps: 820000\n",
      "Best mean reward: 230.94 - Last mean reward per episode: 224.72\n",
      "Num timesteps: 830000\n",
      "Best mean reward: 230.94 - Last mean reward per episode: 222.25\n",
      "Num timesteps: 840000\n",
      "Best mean reward: 230.94 - Last mean reward per episode: 225.69\n",
      "Num timesteps: 850000\n",
      "Best mean reward: 230.94 - Last mean reward per episode: 229.86\n",
      "Num timesteps: 860000\n",
      "Best mean reward: 230.94 - Last mean reward per episode: 225.55\n",
      "Num timesteps: 870000\n",
      "Best mean reward: 230.94 - Last mean reward per episode: 216.98\n",
      "Num timesteps: 880000\n",
      "Best mean reward: 230.94 - Last mean reward per episode: 205.35\n",
      "Num timesteps: 890000\n",
      "Best mean reward: 230.94 - Last mean reward per episode: 201.90\n",
      "Num timesteps: 900000\n",
      "Best mean reward: 230.94 - Last mean reward per episode: 203.50\n",
      "Num timesteps: 910000\n",
      "Best mean reward: 230.94 - Last mean reward per episode: 209.54\n",
      "Num timesteps: 920000\n",
      "Best mean reward: 230.94 - Last mean reward per episode: 216.96\n",
      "Num timesteps: 930000\n",
      "Best mean reward: 230.94 - Last mean reward per episode: 231.74\n",
      "Saving new best model to /tmp/gym/best_model.zip\n",
      "Num timesteps: 940000\n",
      "Best mean reward: 231.74 - Last mean reward per episode: 227.96\n",
      "Num timesteps: 950000\n",
      "Best mean reward: 231.74 - Last mean reward per episode: 230.53\n",
      "Num timesteps: 960000\n",
      "Best mean reward: 231.74 - Last mean reward per episode: 225.63\n",
      "Num timesteps: 970000\n",
      "Best mean reward: 231.74 - Last mean reward per episode: 225.84\n",
      "Num timesteps: 980000\n",
      "Best mean reward: 231.74 - Last mean reward per episode: 220.63\n",
      "Num timesteps: 990000\n",
      "Best mean reward: 231.74 - Last mean reward per episode: 209.64\n",
      "Num timesteps: 1000000\n",
      "Best mean reward: 231.74 - Last mean reward per episode: 209.39\n",
      "Num timesteps: 1010000\n",
      "Best mean reward: 231.74 - Last mean reward per episode: 206.25\n",
      "Num timesteps: 1020000\n",
      "Best mean reward: 231.74 - Last mean reward per episode: 205.51\n",
      "Num timesteps: 1030000\n",
      "Best mean reward: 231.74 - Last mean reward per episode: 209.70\n",
      "Num timesteps: 1040000\n",
      "Best mean reward: 231.74 - Last mean reward per episode: 223.55\n",
      "Num timesteps: 1050000\n",
      "Best mean reward: 231.74 - Last mean reward per episode: 231.32\n",
      "Num timesteps: 1060000\n",
      "Best mean reward: 231.74 - Last mean reward per episode: 233.20\n",
      "Saving new best model to /tmp/gym/best_model.zip\n",
      "Num timesteps: 1070000\n",
      "Best mean reward: 233.20 - Last mean reward per episode: 224.45\n",
      "Num timesteps: 1080000\n",
      "Best mean reward: 233.20 - Last mean reward per episode: 230.65\n"
     ]
    },
    {
     "ename": "KeyboardInterrupt",
     "evalue": "",
     "output_type": "error",
     "traceback": [
      "\u001b[31m---------------------------------------------------------------------------\u001b[39m",
      "\u001b[31mKeyboardInterrupt\u001b[39m                         Traceback (most recent call last)",
      "\u001b[36mCell\u001b[39m\u001b[36m \u001b[39m\u001b[32mIn[13]\u001b[39m\u001b[32m, line 9\u001b[39m\n\u001b[32m      7\u001b[39m model = PPO(\u001b[33m'\u001b[39m\u001b[33mMlpPolicy\u001b[39m\u001b[33m'\u001b[39m, env, verbose=\u001b[32m0\u001b[39m)\n\u001b[32m      8\u001b[39m \u001b[38;5;66;03m# Train the agent\u001b[39;00m\n\u001b[32m----> \u001b[39m\u001b[32m9\u001b[39m \u001b[43mmodel\u001b[49m\u001b[43m.\u001b[49m\u001b[43mlearn\u001b[49m\u001b[43m(\u001b[49m\u001b[43mtotal_timesteps\u001b[49m\u001b[43m=\u001b[49m\u001b[38;5;28;43mint\u001b[39;49m\u001b[43m(\u001b[49m\u001b[32;43m5e6\u001b[39;49m\u001b[43m)\u001b[49m\u001b[43m,\u001b[49m\u001b[43m \u001b[49m\u001b[43mcallback\u001b[49m\u001b[43m=\u001b[49m\u001b[43mcallback\u001b[49m\u001b[43m)\u001b[49m\n",
      "\u001b[36mFile \u001b[39m\u001b[32m~/Desktop/Other/PythonFun/.venv/lib/python3.12/site-packages/stable_baselines3/ppo/ppo.py:311\u001b[39m, in \u001b[36mPPO.learn\u001b[39m\u001b[34m(self, total_timesteps, callback, log_interval, tb_log_name, reset_num_timesteps, progress_bar)\u001b[39m\n\u001b[32m    302\u001b[39m \u001b[38;5;28;01mdef\u001b[39;00m\u001b[38;5;250m \u001b[39m\u001b[34mlearn\u001b[39m(\n\u001b[32m    303\u001b[39m     \u001b[38;5;28mself\u001b[39m: SelfPPO,\n\u001b[32m    304\u001b[39m     total_timesteps: \u001b[38;5;28mint\u001b[39m,\n\u001b[32m   (...)\u001b[39m\u001b[32m    309\u001b[39m     progress_bar: \u001b[38;5;28mbool\u001b[39m = \u001b[38;5;28;01mFalse\u001b[39;00m,\n\u001b[32m    310\u001b[39m ) -> SelfPPO:\n\u001b[32m--> \u001b[39m\u001b[32m311\u001b[39m     \u001b[38;5;28;01mreturn\u001b[39;00m \u001b[38;5;28;43msuper\u001b[39;49m\u001b[43m(\u001b[49m\u001b[43m)\u001b[49m\u001b[43m.\u001b[49m\u001b[43mlearn\u001b[49m\u001b[43m(\u001b[49m\n\u001b[32m    312\u001b[39m \u001b[43m        \u001b[49m\u001b[43mtotal_timesteps\u001b[49m\u001b[43m=\u001b[49m\u001b[43mtotal_timesteps\u001b[49m\u001b[43m,\u001b[49m\n\u001b[32m    313\u001b[39m \u001b[43m        \u001b[49m\u001b[43mcallback\u001b[49m\u001b[43m=\u001b[49m\u001b[43mcallback\u001b[49m\u001b[43m,\u001b[49m\n\u001b[32m    314\u001b[39m \u001b[43m        \u001b[49m\u001b[43mlog_interval\u001b[49m\u001b[43m=\u001b[49m\u001b[43mlog_interval\u001b[49m\u001b[43m,\u001b[49m\n\u001b[32m    315\u001b[39m \u001b[43m        \u001b[49m\u001b[43mtb_log_name\u001b[49m\u001b[43m=\u001b[49m\u001b[43mtb_log_name\u001b[49m\u001b[43m,\u001b[49m\n\u001b[32m    316\u001b[39m \u001b[43m        \u001b[49m\u001b[43mreset_num_timesteps\u001b[49m\u001b[43m=\u001b[49m\u001b[43mreset_num_timesteps\u001b[49m\u001b[43m,\u001b[49m\n\u001b[32m    317\u001b[39m \u001b[43m        \u001b[49m\u001b[43mprogress_bar\u001b[49m\u001b[43m=\u001b[49m\u001b[43mprogress_bar\u001b[49m\u001b[43m,\u001b[49m\n\u001b[32m    318\u001b[39m \u001b[43m    \u001b[49m\u001b[43m)\u001b[49m\n",
      "\u001b[36mFile \u001b[39m\u001b[32m~/Desktop/Other/PythonFun/.venv/lib/python3.12/site-packages/stable_baselines3/common/on_policy_algorithm.py:323\u001b[39m, in \u001b[36mOnPolicyAlgorithm.learn\u001b[39m\u001b[34m(self, total_timesteps, callback, log_interval, tb_log_name, reset_num_timesteps, progress_bar)\u001b[39m\n\u001b[32m    320\u001b[39m \u001b[38;5;28;01massert\u001b[39;00m \u001b[38;5;28mself\u001b[39m.env \u001b[38;5;129;01mis\u001b[39;00m \u001b[38;5;129;01mnot\u001b[39;00m \u001b[38;5;28;01mNone\u001b[39;00m\n\u001b[32m    322\u001b[39m \u001b[38;5;28;01mwhile\u001b[39;00m \u001b[38;5;28mself\u001b[39m.num_timesteps < total_timesteps:\n\u001b[32m--> \u001b[39m\u001b[32m323\u001b[39m     continue_training = \u001b[38;5;28;43mself\u001b[39;49m\u001b[43m.\u001b[49m\u001b[43mcollect_rollouts\u001b[49m\u001b[43m(\u001b[49m\u001b[38;5;28;43mself\u001b[39;49m\u001b[43m.\u001b[49m\u001b[43menv\u001b[49m\u001b[43m,\u001b[49m\u001b[43m \u001b[49m\u001b[43mcallback\u001b[49m\u001b[43m,\u001b[49m\u001b[43m \u001b[49m\u001b[38;5;28;43mself\u001b[39;49m\u001b[43m.\u001b[49m\u001b[43mrollout_buffer\u001b[49m\u001b[43m,\u001b[49m\u001b[43m \u001b[49m\u001b[43mn_rollout_steps\u001b[49m\u001b[43m=\u001b[49m\u001b[38;5;28;43mself\u001b[39;49m\u001b[43m.\u001b[49m\u001b[43mn_steps\u001b[49m\u001b[43m)\u001b[49m\n\u001b[32m    325\u001b[39m     \u001b[38;5;28;01mif\u001b[39;00m \u001b[38;5;129;01mnot\u001b[39;00m continue_training:\n\u001b[32m    326\u001b[39m         \u001b[38;5;28;01mbreak\u001b[39;00m\n",
      "\u001b[36mFile \u001b[39m\u001b[32m~/Desktop/Other/PythonFun/.venv/lib/python3.12/site-packages/stable_baselines3/common/on_policy_algorithm.py:202\u001b[39m, in \u001b[36mOnPolicyAlgorithm.collect_rollouts\u001b[39m\u001b[34m(self, env, callback, rollout_buffer, n_rollout_steps)\u001b[39m\n\u001b[32m    199\u001b[39m \u001b[38;5;28;01mwith\u001b[39;00m th.no_grad():\n\u001b[32m    200\u001b[39m     \u001b[38;5;66;03m# Convert to pytorch tensor or to TensorDict\u001b[39;00m\n\u001b[32m    201\u001b[39m     obs_tensor = obs_as_tensor(\u001b[38;5;28mself\u001b[39m._last_obs, \u001b[38;5;28mself\u001b[39m.device)\n\u001b[32m--> \u001b[39m\u001b[32m202\u001b[39m     actions, values, log_probs = \u001b[38;5;28;43mself\u001b[39;49m\u001b[43m.\u001b[49m\u001b[43mpolicy\u001b[49m\u001b[43m(\u001b[49m\u001b[43mobs_tensor\u001b[49m\u001b[43m)\u001b[49m\n\u001b[32m    203\u001b[39m actions = actions.cpu().numpy()\n\u001b[32m    205\u001b[39m \u001b[38;5;66;03m# Rescale and perform action\u001b[39;00m\n",
      "\u001b[36mFile \u001b[39m\u001b[32m~/Desktop/Other/PythonFun/.venv/lib/python3.12/site-packages/torch/nn/modules/module.py:1739\u001b[39m, in \u001b[36mModule._wrapped_call_impl\u001b[39m\u001b[34m(self, *args, **kwargs)\u001b[39m\n\u001b[32m   1737\u001b[39m     \u001b[38;5;28;01mreturn\u001b[39;00m \u001b[38;5;28mself\u001b[39m._compiled_call_impl(*args, **kwargs)  \u001b[38;5;66;03m# type: ignore[misc]\u001b[39;00m\n\u001b[32m   1738\u001b[39m \u001b[38;5;28;01melse\u001b[39;00m:\n\u001b[32m-> \u001b[39m\u001b[32m1739\u001b[39m     \u001b[38;5;28;01mreturn\u001b[39;00m \u001b[38;5;28;43mself\u001b[39;49m\u001b[43m.\u001b[49m\u001b[43m_call_impl\u001b[49m\u001b[43m(\u001b[49m\u001b[43m*\u001b[49m\u001b[43margs\u001b[49m\u001b[43m,\u001b[49m\u001b[43m \u001b[49m\u001b[43m*\u001b[49m\u001b[43m*\u001b[49m\u001b[43mkwargs\u001b[49m\u001b[43m)\u001b[49m\n",
      "\u001b[36mFile \u001b[39m\u001b[32m~/Desktop/Other/PythonFun/.venv/lib/python3.12/site-packages/torch/nn/modules/module.py:1750\u001b[39m, in \u001b[36mModule._call_impl\u001b[39m\u001b[34m(self, *args, **kwargs)\u001b[39m\n\u001b[32m   1745\u001b[39m \u001b[38;5;66;03m# If we don't have any hooks, we want to skip the rest of the logic in\u001b[39;00m\n\u001b[32m   1746\u001b[39m \u001b[38;5;66;03m# this function, and just call forward.\u001b[39;00m\n\u001b[32m   1747\u001b[39m \u001b[38;5;28;01mif\u001b[39;00m \u001b[38;5;129;01mnot\u001b[39;00m (\u001b[38;5;28mself\u001b[39m._backward_hooks \u001b[38;5;129;01mor\u001b[39;00m \u001b[38;5;28mself\u001b[39m._backward_pre_hooks \u001b[38;5;129;01mor\u001b[39;00m \u001b[38;5;28mself\u001b[39m._forward_hooks \u001b[38;5;129;01mor\u001b[39;00m \u001b[38;5;28mself\u001b[39m._forward_pre_hooks\n\u001b[32m   1748\u001b[39m         \u001b[38;5;129;01mor\u001b[39;00m _global_backward_pre_hooks \u001b[38;5;129;01mor\u001b[39;00m _global_backward_hooks\n\u001b[32m   1749\u001b[39m         \u001b[38;5;129;01mor\u001b[39;00m _global_forward_hooks \u001b[38;5;129;01mor\u001b[39;00m _global_forward_pre_hooks):\n\u001b[32m-> \u001b[39m\u001b[32m1750\u001b[39m     \u001b[38;5;28;01mreturn\u001b[39;00m \u001b[43mforward_call\u001b[49m\u001b[43m(\u001b[49m\u001b[43m*\u001b[49m\u001b[43margs\u001b[49m\u001b[43m,\u001b[49m\u001b[43m \u001b[49m\u001b[43m*\u001b[49m\u001b[43m*\u001b[49m\u001b[43mkwargs\u001b[49m\u001b[43m)\u001b[49m\n\u001b[32m   1752\u001b[39m result = \u001b[38;5;28;01mNone\u001b[39;00m\n\u001b[32m   1753\u001b[39m called_always_called_hooks = \u001b[38;5;28mset\u001b[39m()\n",
      "\u001b[36mFile \u001b[39m\u001b[32m~/Desktop/Other/PythonFun/.venv/lib/python3.12/site-packages/stable_baselines3/common/policies.py:655\u001b[39m, in \u001b[36mActorCriticPolicy.forward\u001b[39m\u001b[34m(self, obs, deterministic)\u001b[39m\n\u001b[32m    653\u001b[39m values = \u001b[38;5;28mself\u001b[39m.value_net(latent_vf)\n\u001b[32m    654\u001b[39m distribution = \u001b[38;5;28mself\u001b[39m._get_action_dist_from_latent(latent_pi)\n\u001b[32m--> \u001b[39m\u001b[32m655\u001b[39m actions = \u001b[43mdistribution\u001b[49m\u001b[43m.\u001b[49m\u001b[43mget_actions\u001b[49m\u001b[43m(\u001b[49m\u001b[43mdeterministic\u001b[49m\u001b[43m=\u001b[49m\u001b[43mdeterministic\u001b[49m\u001b[43m)\u001b[49m\n\u001b[32m    656\u001b[39m log_prob = distribution.log_prob(actions)\n\u001b[32m    657\u001b[39m actions = actions.reshape((-\u001b[32m1\u001b[39m, *\u001b[38;5;28mself\u001b[39m.action_space.shape))  \u001b[38;5;66;03m# type: ignore[misc]\u001b[39;00m\n",
      "\u001b[36mFile \u001b[39m\u001b[32m~/Desktop/Other/PythonFun/.venv/lib/python3.12/site-packages/stable_baselines3/common/distributions.py:89\u001b[39m, in \u001b[36mDistribution.get_actions\u001b[39m\u001b[34m(self, deterministic)\u001b[39m\n\u001b[32m     87\u001b[39m \u001b[38;5;28;01mif\u001b[39;00m deterministic:\n\u001b[32m     88\u001b[39m     \u001b[38;5;28;01mreturn\u001b[39;00m \u001b[38;5;28mself\u001b[39m.mode()\n\u001b[32m---> \u001b[39m\u001b[32m89\u001b[39m \u001b[38;5;28;01mreturn\u001b[39;00m \u001b[38;5;28;43mself\u001b[39;49m\u001b[43m.\u001b[49m\u001b[43msample\u001b[49m\u001b[43m(\u001b[49m\u001b[43m)\u001b[49m\n",
      "\u001b[36mFile \u001b[39m\u001b[32m~/Desktop/Other/PythonFun/.venv/lib/python3.12/site-packages/stable_baselines3/common/distributions.py:183\u001b[39m, in \u001b[36mDiagGaussianDistribution.sample\u001b[39m\u001b[34m(self)\u001b[39m\n\u001b[32m    181\u001b[39m \u001b[38;5;28;01mdef\u001b[39;00m\u001b[38;5;250m \u001b[39m\u001b[34msample\u001b[39m(\u001b[38;5;28mself\u001b[39m) -> th.Tensor:\n\u001b[32m    182\u001b[39m     \u001b[38;5;66;03m# Reparametrization trick to pass gradients\u001b[39;00m\n\u001b[32m--> \u001b[39m\u001b[32m183\u001b[39m     \u001b[38;5;28;01mreturn\u001b[39;00m \u001b[38;5;28;43mself\u001b[39;49m\u001b[43m.\u001b[49m\u001b[43mdistribution\u001b[49m\u001b[43m.\u001b[49m\u001b[43mrsample\u001b[49m\u001b[43m(\u001b[49m\u001b[43m)\u001b[49m\n",
      "\u001b[36mFile \u001b[39m\u001b[32m~/Desktop/Other/PythonFun/.venv/lib/python3.12/site-packages/torch/distributions/normal.py:77\u001b[39m, in \u001b[36mNormal.rsample\u001b[39m\u001b[34m(self, sample_shape)\u001b[39m\n\u001b[32m     75\u001b[39m \u001b[38;5;28;01mdef\u001b[39;00m\u001b[38;5;250m \u001b[39m\u001b[34mrsample\u001b[39m(\u001b[38;5;28mself\u001b[39m, sample_shape: _size = torch.Size()) -> torch.Tensor:\n\u001b[32m     76\u001b[39m     shape = \u001b[38;5;28mself\u001b[39m._extended_shape(sample_shape)\n\u001b[32m---> \u001b[39m\u001b[32m77\u001b[39m     eps = \u001b[43m_standard_normal\u001b[49m\u001b[43m(\u001b[49m\u001b[43mshape\u001b[49m\u001b[43m,\u001b[49m\u001b[43m \u001b[49m\u001b[43mdtype\u001b[49m\u001b[43m=\u001b[49m\u001b[38;5;28;43mself\u001b[39;49m\u001b[43m.\u001b[49m\u001b[43mloc\u001b[49m\u001b[43m.\u001b[49m\u001b[43mdtype\u001b[49m\u001b[43m,\u001b[49m\u001b[43m \u001b[49m\u001b[43mdevice\u001b[49m\u001b[43m=\u001b[49m\u001b[38;5;28;43mself\u001b[39;49m\u001b[43m.\u001b[49m\u001b[43mloc\u001b[49m\u001b[43m.\u001b[49m\u001b[43mdevice\u001b[49m\u001b[43m)\u001b[49m\n\u001b[32m     78\u001b[39m     \u001b[38;5;28;01mreturn\u001b[39;00m \u001b[38;5;28mself\u001b[39m.loc + eps * \u001b[38;5;28mself\u001b[39m.scale\n",
      "\u001b[36mFile \u001b[39m\u001b[32m~/Desktop/Other/PythonFun/.venv/lib/python3.12/site-packages/torch/distributions/utils.py:65\u001b[39m, in \u001b[36m_standard_normal\u001b[39m\u001b[34m(shape, dtype, device)\u001b[39m\n\u001b[32m     59\u001b[39m \u001b[38;5;28;01mif\u001b[39;00m torch._C._get_tracing_state():\n\u001b[32m     60\u001b[39m     \u001b[38;5;66;03m# [JIT WORKAROUND] lack of support for .normal_()\u001b[39;00m\n\u001b[32m     61\u001b[39m     \u001b[38;5;28;01mreturn\u001b[39;00m torch.normal(\n\u001b[32m     62\u001b[39m         torch.zeros(shape, dtype=dtype, device=device),\n\u001b[32m     63\u001b[39m         torch.ones(shape, dtype=dtype, device=device),\n\u001b[32m     64\u001b[39m     )\n\u001b[32m---> \u001b[39m\u001b[32m65\u001b[39m \u001b[38;5;28;01mreturn\u001b[39;00m \u001b[43mtorch\u001b[49m\u001b[43m.\u001b[49m\u001b[43mempty\u001b[49m\u001b[43m(\u001b[49m\u001b[43mshape\u001b[49m\u001b[43m,\u001b[49m\u001b[43m \u001b[49m\u001b[43mdtype\u001b[49m\u001b[43m=\u001b[49m\u001b[43mdtype\u001b[49m\u001b[43m,\u001b[49m\u001b[43m \u001b[49m\u001b[43mdevice\u001b[49m\u001b[43m=\u001b[49m\u001b[43mdevice\u001b[49m\u001b[43m)\u001b[49m.normal_()\n",
      "\u001b[31mKeyboardInterrupt\u001b[39m: "
     ]
    }
   ],
   "source": [
    "# Create action noise because TD3 and DDPG use a deterministic policy\n",
    "n_actions = env.action_space.shape[-1]\n",
    "action_noise = NormalActionNoise(mean=np.zeros(n_actions), sigma=0.1 * np.ones(n_actions))\n",
    "# Create the callback: check every 1000 steps\n",
    "callback = SaveOnBestTrainingRewardCallback(check_freq=10000, log_dir=log_dir)\n",
    "# Create RL model\n",
    "model = PPO('MlpPolicy', env, verbose=0)\n",
    "# Train the agent\n",
    "model.learn(total_timesteps=int(5e6), callback=callback)"
   ]
  },
  {
   "cell_type": "markdown",
   "metadata": {
    "id": "qQ4bxRQZDuk1"
   },
   "source": [
    "## Plotting helpers\n",
    "\n",
    "Stable Baselines3 has some built-in plotting helper, that you can find in `stable_baselines3.common.results_plotter`. However, to show how to do it yourself, we are going to use custom plotting functions."
   ]
  },
  {
   "cell_type": "code",
   "execution_count": 14,
   "metadata": {
    "id": "h_kMEHmJm3P3"
   },
   "outputs": [
    {
     "data": {
      "image/png": "[encoded data removed]",
      "text/plain": [
       "<Figure size 800x200 with 1 Axes>"
      ]
     },
     "metadata": {},
     "output_type": "display_data"
    }
   ],
   "source": [
    "from stable_baselines3.common import results_plotter\n",
    "\n",
    "# Helper from the library\n",
    "results_plotter.plot_results(\n",
    "    [log_dir], 1e5, results_plotter.X_TIMESTEPS, \"PPO LunarLander\"\n",
    ")"
   ]
  },
  {
   "cell_type": "code",
   "execution_count": 9,
   "metadata": {
    "id": "mPXYbV39DiCj"
   },
   "outputs": [],
   "source": [
    "def moving_average(values, window):\n",
    "    \"\"\"\n",
    "    Smooth values by doing a moving average\n",
    "    :param values: (numpy array)\n",
    "    :param window: (int)\n",
    "    :return: (numpy array)\n",
    "    \"\"\"\n",
    "    weights = np.repeat(1.0, window) / window\n",
    "    return np.convolve(values, weights, \"valid\")\n",
    "\n",
    "\n",
    "def plot_results(log_folder, title=\"Learning Curve\"):\n",
    "    \"\"\"\n",
    "    plot the results\n",
    "\n",
    "    :param log_folder: (str) the save location of the results to plot\n",
    "    :param title: (str) the title of the task to plot\n",
    "    \"\"\"\n",
    "    x, y = ts2xy(load_results(log_folder), \"timesteps\")\n",
    "    y = moving_average(y, window=50)\n",
    "    # Truncate x\n",
    "    x = x[len(x) - len(y) :]\n",
    "\n",
    "    fig = plt.figure(title)\n",
    "    plt.plot(x, y)\n",
    "    plt.xlabel(\"Number of Timesteps\")\n",
    "    plt.ylabel(\"Rewards\")\n",
    "    plt.title(title + \" Smoothed\")\n",
    "    plt.show()"
   ]
  },
  {
   "cell_type": "code",
   "execution_count": 15,
   "metadata": {
    "id": "CQXx7HiSDt7_"
   },
   "outputs": [
    {
     "data": {
      "image/png": "[encoded data removed]",
      "text/plain": [
       "<Figure size 640x480 with 1 Axes>"
      ]
     },
     "metadata": {},
     "output_type": "display_data"
    }
   ],
   "source": [
    "plot_results(log_dir)"
   ]
  },
  {
   "cell_type": "code",
   "execution_count": 23,
   "metadata": {},
   "outputs": [],
   "source": [
    "obs = env.reset()\n",
    "for i in range(1000):\n",
    "    action, _states = model.predict(obs, deterministic=True)\n",
    "    obs, rewards, dones, info = env.step(action)\n",
    "    env.render()"
   ]
  }
 ],
 "metadata": {
  "colab": {
   "name": "monitor_training.ipynb",
   "provenance": []
  },
  "kernelspec": {
   "display_name": ".venv",
   "language": "python",
   "name": "python3"
  },
  "language_info": {
   "codemirror_mode": {
    "name": "ipython",
    "version": 3
   },
   "file_extension": ".py",
   "mimetype": "text/x-python",
   "name": "python",
   "nbconvert_exporter": "python",
   "pygments_lexer": "ipython3",
   "version": "3.12.3"
  }
 },
 "nbformat": 4,
 "nbformat_minor": 0
}
